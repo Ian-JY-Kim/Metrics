{
 "cells": [
  {
   "cell_type": "code",
   "execution_count": 74,
   "id": "ee7d0922",
   "metadata": {},
   "outputs": [],
   "source": [
    "import numpy as np\n",
    "import pandas as pd\n",
    "from statistics import mean\n",
    "import math\n",
    "from scipy.optimize import minimize"
   ]
  },
  {
   "cell_type": "code",
   "execution_count": 2,
   "id": "b50cd5a5",
   "metadata": {},
   "outputs": [
    {
     "name": "stdout",
     "output_type": "stream",
     "text": [
      "GMM & MLE.ipynb  hs_ml.jl         hsdata.csv\r\n"
     ]
    }
   ],
   "source": [
    "ls"
   ]
  },
  {
   "cell_type": "code",
   "execution_count": 3,
   "id": "5d148040",
   "metadata": {},
   "outputs": [],
   "source": [
    "dataset = pd.read_csv(\"hsdata.csv\")"
   ]
  },
  {
   "cell_type": "code",
   "execution_count": 54,
   "id": "288dde54",
   "metadata": {},
   "outputs": [],
   "source": [
    "consumption = [math.exp(i) for i in list(dataset['c'])]\n",
    "asset_return = [math.exp(i) for i in list(dataset['r'])]\n",
    "dividend = [math.exp(i) for i in list(dataset['d'])]\n",
    "dataset['consumption'] = consumption\n",
    "dataset['asset_return'] = asset_return "
   ]
  },
  {
   "cell_type": "markdown",
   "id": "1f884a2d",
   "metadata": {},
   "source": [
    "# (a)"
   ]
  },
  {
   "cell_type": "markdown",
   "id": "66eb977f",
   "metadata": {},
   "source": [
    "## (1) one step GMM"
   ]
  },
  {
   "cell_type": "markdown",
   "id": "7cdc384e",
   "metadata": {},
   "source": [
    "Roadmap </br>\n",
    "1. construct a sample analogy (3X1 vector) for the moment equation which depends on $$\\{\\delta_0,\\gamma_0\\}$$\n",
    "2. construct the GMM criterion function $$ J(\\delta, \\gamma) = n\\bar{g_n}(\\delta, \\gamma)'W\\bar{g_n}(\\delta, \\gamma)$$\n",
    "3. using gradient descent, find the minimizer $$\\{\\delta_{gmm},\\gamma_{gmm}\\}$$"
   ]
  },
  {
   "cell_type": "code",
   "execution_count": 36,
   "id": "6be03895",
   "metadata": {},
   "outputs": [],
   "source": [
    "# 0. initial value \n",
    "delta = np.random.uniform(low=0.1, high=0.99)\n",
    "gamma = np.random.uniform(low=0.1, high=0.99)"
   ]
  },
  {
   "cell_type": "code",
   "execution_count": 108,
   "id": "0aff32b0",
   "metadata": {},
   "outputs": [],
   "source": [
    "sample = np.array([0.22760131, 0.71847686])"
   ]
  },
  {
   "cell_type": "code",
   "execution_count": 59,
   "id": "ff075b18",
   "metadata": {},
   "outputs": [
    {
     "data": {
      "text/plain": [
       "range(1, 250)"
      ]
     },
     "execution_count": 59,
     "metadata": {},
     "output_type": "execute_result"
    }
   ],
   "source": [
    "range(1,time)"
   ]
  },
  {
   "cell_type": "code",
   "execution_count": 70,
   "id": "4940ba4d",
   "metadata": {},
   "outputs": [],
   "source": [
    "def rosen(parameter):\n",
    "    delta = parameter[0]\n",
    "    gamma = parameter[1]\n",
    "    # 1. construct a sample analogy\n",
    "    time = len(dataset['time'])\n",
    "    sample_analogy_1 = []\n",
    "    for i in range(time-1):\n",
    "        c_tmr = list(dataset['consumption'])[i+1]\n",
    "        c_t = list(dataset['consumption'])[i]\n",
    "        R_tmr = dataset['asset_return'][i]\n",
    "        sample_analogy_1.append(delta*((c_tmr/c_t)**(-gamma))*R_tmr -1)\n",
    "\n",
    "    sample_analogy_2 = []\n",
    "    for i in range(1, time-1):\n",
    "        c_tmr = list(dataset['consumption'])[i+1]\n",
    "        c_t = list(dataset['consumption'])[i]\n",
    "        R_tmr = dataset['asset_return'][i]\n",
    "        R_t = dataset['asset_return'][i-1]\n",
    "        sample_analogy_2.append((delta*((c_tmr/c_t)**(-gamma))*R_tmr -1)*R_t)\n",
    "\n",
    "    sample_analogy_3 = []\n",
    "    for i in range(1, time-1):\n",
    "        c_tmr = list(dataset['consumption'])[i+1]\n",
    "        c_ytd = dataset['consumption'][i-1]\n",
    "        c_t = list(dataset['consumption'])[i]\n",
    "        R_tmr = dataset['asset_return'][i]\n",
    "        sample_analogy_3.append((delta*((c_tmr/c_t)**(-gamma))*R_tmr -1)*(c_t/c_ytd))\n",
    "\n",
    "    # 2. Calculate GMM Criterion Function\n",
    "    g_n_bar = np.array([mean(sample_analogy_1), mean(sample_analogy_2), mean(sample_analogy_3)])\n",
    "    criterion = g_n_bar @ g_n_bar\n",
    "    \n",
    "    return criterion"
   ]
  },
  {
   "cell_type": "code",
   "execution_count": 75,
   "id": "0320ea6e",
   "metadata": {},
   "outputs": [
    {
     "name": "stdout",
     "output_type": "stream",
     "text": [
      "Optimization terminated successfully.\n",
      "         Current function value: 0.000000\n",
      "         Iterations: 97\n",
      "         Function evaluations: 186\n"
     ]
    }
   ],
   "source": [
    "res = minimize(rosen, sample, method='nelder-mead',\n",
    "               options={'xatol': 1e-8, 'disp': True})"
   ]
  },
  {
   "cell_type": "code",
   "execution_count": 76,
   "id": "946560a1",
   "metadata": {},
   "outputs": [
    {
     "data": {
      "text/plain": [
       "array([ 0.92071863, -2.16647848])"
      ]
     },
     "execution_count": 76,
     "metadata": {},
     "output_type": "execute_result"
    }
   ],
   "source": [
    "res.x"
   ]
  },
  {
   "cell_type": "markdown",
   "id": "35401cb4",
   "metadata": {},
   "source": [
    "$$Hence \\ under \\ \\hat{W}=I \\ we\\ have, \\\\  \\delta_{gmm} = 0.92071863, \\\\  \\gamma_{gmm} = -2.16647848  $$"
   ]
  },
  {
   "cell_type": "markdown",
   "id": "e96f5d3e",
   "metadata": {},
   "source": [
    "## (2) two-step GMM"
   ]
  },
  {
   "cell_type": "markdown",
   "id": "be5f1917",
   "metadata": {},
   "source": [
    "Roadmap </br>\n",
    "1. estimate W, using the result from (1)\n",
    "2. plug the estimated W into the GMM criterion, and then do the GMM estimation "
   ]
  },
  {
   "cell_type": "code",
   "execution_count": 104,
   "id": "5e05b155",
   "metadata": {},
   "outputs": [],
   "source": [
    "#0 set the parameter\n",
    "delta = 0.92071863\n",
    "gamma = -2.16647848\n",
    "\n",
    "#1 calculate the residual using the result in (1)\n",
    "variance_sample_analogy = []\n",
    "sample_number = 0\n",
    "for i in range(1, time-1):\n",
    "        c_tmr = list(dataset['consumption'])[i+1]\n",
    "        c_ytd = dataset['consumption'][i-1]\n",
    "        c_t = list(dataset['consumption'])[i]\n",
    "        R_tmr = dataset['asset_return'][i]\n",
    "        e_hat = delta*((c_tmr/c_t)**(-gamma))*R_tmr -1\n",
    "        \n",
    "        Z1 = 1\n",
    "        Z2 = dataset['asset_return'][i-1]\n",
    "        Z3 = c_t/c_ytd\n",
    "        Z = np.array([Z1, Z2, Z3])\n",
    "        ZZ = np.outer(Z, Z)\n",
    "        \n",
    "        variance_sample_analogy.append((e_hat**2)*ZZ)\n",
    "        sample_number += 1\n",
    "\n",
    "omega = 0\n",
    "for var in variance_sample_analogy:\n",
    "    omega = omega + var\n",
    "omega = (1/sample_number)*omega\n",
    "\n",
    "W_hat = np.linalg.inv(omega)"
   ]
  },
  {
   "cell_type": "code",
   "execution_count": 109,
   "id": "40b1f183",
   "metadata": {},
   "outputs": [],
   "source": [
    "def rosen2(parameter):\n",
    "    delta = parameter[0]\n",
    "    gamma = parameter[1]\n",
    "    # 1. construct a sample analogy\n",
    "    time = len(dataset['time'])\n",
    "    sample_analogy_1 = []\n",
    "    for i in range(time-1):\n",
    "        c_tmr = list(dataset['consumption'])[i+1]\n",
    "        c_t = list(dataset['consumption'])[i]\n",
    "        R_tmr = dataset['asset_return'][i]\n",
    "        sample_analogy_1.append(delta*((c_tmr/c_t)**(-gamma))*R_tmr -1)\n",
    "\n",
    "    sample_analogy_2 = []\n",
    "    for i in range(1, time-1):\n",
    "        c_tmr = list(dataset['consumption'])[i+1]\n",
    "        c_t = list(dataset['consumption'])[i]\n",
    "        R_tmr = dataset['asset_return'][i]\n",
    "        R_t = dataset['asset_return'][i-1]\n",
    "        sample_analogy_2.append((delta*((c_tmr/c_t)**(-gamma))*R_tmr -1)*R_t)\n",
    "\n",
    "    sample_analogy_3 = []\n",
    "    for i in range(1, time-1):\n",
    "        c_tmr = list(dataset['consumption'])[i+1]\n",
    "        c_ytd = dataset['consumption'][i-1]\n",
    "        c_t = list(dataset['consumption'])[i]\n",
    "        R_tmr = dataset['asset_return'][i]\n",
    "        sample_analogy_3.append((delta*((c_tmr/c_t)**(-gamma))*R_tmr -1)*(c_t/c_ytd))\n",
    "\n",
    "    # 2. Calculate GMM Criterion Function\n",
    "    g_n_bar = np.array([mean(sample_analogy_1), mean(sample_analogy_2), mean(sample_analogy_3)])\n",
    "    criterion = g_n_bar @ W_hat @ g_n_bar\n",
    "    \n",
    "    return criterion"
   ]
  },
  {
   "cell_type": "code",
   "execution_count": 118,
   "id": "ae9b0964",
   "metadata": {
    "scrolled": true
   },
   "outputs": [
    {
     "name": "stdout",
     "output_type": "stream",
     "text": [
      "Optimization terminated successfully.\n",
      "         Current function value: 0.000767\n",
      "         Iterations: 89\n",
      "         Function evaluations: 174\n"
     ]
    }
   ],
   "source": [
    "res2 = minimize(rosen2, sample, method='nelder-mead',\n",
    "               options={'xatol': 1e-8, 'disp': True})"
   ]
  },
  {
   "cell_type": "code",
   "execution_count": 119,
   "id": "b8b312e9",
   "metadata": {
    "scrolled": true
   },
   "outputs": [
    {
     "data": {
      "text/plain": [
       "array([ 0.92052058, -2.40453142])"
      ]
     },
     "execution_count": 119,
     "metadata": {},
     "output_type": "execute_result"
    }
   ],
   "source": [
    "res2.x"
   ]
  },
  {
   "cell_type": "markdown",
   "id": "0b261f69",
   "metadata": {},
   "source": [
    "$$Hence\\ under\\ two-step\\ GMM \\ we\\ have, \\\\  \\delta_{gmm2} = 0.92052058, \\\\  \\gamma_{gmm2} = -2.40453142  $$"
   ]
  },
  {
   "cell_type": "markdown",
   "id": "6b53da1b",
   "metadata": {},
   "source": [
    "## (3) "
   ]
  },
  {
   "cell_type": "markdown",
   "id": "032de88a",
   "metadata": {},
   "source": [
    "## (3-1) repeat part (1)"
   ]
  },
  {
   "cell_type": "code",
   "execution_count": 121,
   "id": "5a005018",
   "metadata": {},
   "outputs": [],
   "source": [
    "def rosen3(parameter):\n",
    "    delta = parameter[0]\n",
    "    gamma = parameter[1]\n",
    "    # 1. construct a sample analogy\n",
    "    time = len(dataset['time'])\n",
    "    sample_analogy_1 = []\n",
    "    for i in range(time-1):\n",
    "        c_tmr = list(dataset['consumption'])[i+1]\n",
    "        c_t = list(dataset['consumption'])[i]\n",
    "        R_tmr = dataset['asset_return'][i]\n",
    "        sample_analogy_1.append(delta*((c_tmr/c_t)**(-gamma))*R_tmr -1)\n",
    "\n",
    "    sample_analogy_2 = []\n",
    "    for i in range(1, time-1):\n",
    "        c_tmr = list(dataset['consumption'])[i+1]\n",
    "        c_t = list(dataset['consumption'])[i]\n",
    "        R_tmr = dataset['asset_return'][i]\n",
    "        R_t = dataset['asset_return'][i-1]\n",
    "        sample_analogy_2.append((delta*((c_tmr/c_t)**(-gamma))*R_tmr -1)*R_t)\n",
    "\n",
    "    sample_analogy_3 = []\n",
    "    for i in range(1, time-1):\n",
    "        c_tmr = list(dataset['consumption'])[i+1]\n",
    "        c_ytd = dataset['consumption'][i-1]\n",
    "        c_t = list(dataset['consumption'])[i]\n",
    "        R_tmr = dataset['asset_return'][i]\n",
    "        sample_analogy_3.append((delta*((c_tmr/c_t)**(-gamma))*R_tmr -1)*(c_t/c_ytd))\n",
    "        \n",
    "    sample_analogy_4 = []\n",
    "    for i in range(2, time-1):\n",
    "        c_tmr = list(dataset['consumption'])[i+1]\n",
    "        c_ytd = dataset['consumption'][i-1]\n",
    "        c_t = list(dataset['consumption'])[i]\n",
    "        R_tmr = dataset['asset_return'][i]\n",
    "        R_ytd = dataset['asset_return'][i-2]\n",
    "        sample_analogy_4.append((delta*((c_tmr/c_t)**(-gamma))*R_tmr -1)*(R_ytd))\n",
    "\n",
    "    sample_analogy_5 = []\n",
    "    for i in range(2, time-1):\n",
    "        c_tmr = list(dataset['consumption'])[i+1]\n",
    "        c_ytd = dataset['consumption'][i-1]\n",
    "        c_ytd2 = dataset['consumption'][i-2]\n",
    "        c_t = list(dataset['consumption'])[i]\n",
    "        R_tmr = dataset['asset_return'][i]\n",
    "        sample_analogy_5.append((delta*((c_tmr/c_t)**(-gamma))*R_tmr -1)*(c_ytd/c_ytd2))\n",
    "\n",
    "\n",
    "    # 2. Calculate GMM Criterion Function\n",
    "    g_n_bar = np.array([mean(sample_analogy_1), mean(sample_analogy_2), mean(sample_analogy_3), \n",
    "                        mean(sample_analogy_4), mean(sample_analogy_5)])\n",
    "    criterion = g_n_bar @ g_n_bar\n",
    "    \n",
    "    return criterion"
   ]
  },
  {
   "cell_type": "code",
   "execution_count": 122,
   "id": "9489b045",
   "metadata": {},
   "outputs": [
    {
     "name": "stdout",
     "output_type": "stream",
     "text": [
      "Optimization terminated successfully.\n",
      "         Current function value: 0.000001\n",
      "         Iterations: 106\n",
      "         Function evaluations: 203\n"
     ]
    }
   ],
   "source": [
    "res3 = minimize(rosen3, sample, method='nelder-mead',\n",
    "               options={'xatol': 1e-8, 'disp': True})"
   ]
  },
  {
   "cell_type": "code",
   "execution_count": 124,
   "id": "c3341a62",
   "metadata": {
    "scrolled": true
   },
   "outputs": [
    {
     "data": {
      "text/plain": [
       "array([ 0.92037327, -2.19448185])"
      ]
     },
     "execution_count": 124,
     "metadata": {},
     "output_type": "execute_result"
    }
   ],
   "source": [
    "res3.x"
   ]
  },
  {
   "cell_type": "markdown",
   "id": "685a1b5c",
   "metadata": {},
   "source": [
    "$$Hence\\ under\\ this\\ specification\\ we\\ have, \\\\  \\delta_{gmm2} = 0.92037327, \\\\  \\gamma_{gmm2} = -2.19448185  $$"
   ]
  },
  {
   "cell_type": "markdown",
   "id": "b11da454",
   "metadata": {},
   "source": [
    "## (3-2) repeat part (2)"
   ]
  },
  {
   "cell_type": "code",
   "execution_count": 125,
   "id": "67fec5b3",
   "metadata": {},
   "outputs": [],
   "source": [
    "#0 set the parameter\n",
    "delta = 0.92037327\n",
    "gamma = -2.19448185\n",
    "\n",
    "#1 calculate the residual using the result in (1)\n",
    "variance_sample_analogy2 = []\n",
    "sample_number = 0\n",
    "for i in range(2, time-1):\n",
    "        c_tmr = list(dataset['consumption'])[i+1]\n",
    "        c_ytd = dataset['consumption'][i-1]\n",
    "        c_ytd2 = dataset['consumption'][i-2]\n",
    "        c_t = list(dataset['consumption'])[i]\n",
    "        R_ytd = dataset['asset_return'][i-2]\n",
    "        R_tmr = dataset['asset_return'][i]\n",
    "        e_hat = delta*((c_tmr/c_t)**(-gamma))*R_tmr -1\n",
    "        \n",
    "        \n",
    "        Z1 = 1\n",
    "        Z2 = dataset['asset_return'][i-1]\n",
    "        Z3 = c_t/c_ytd\n",
    "        Z4 = R_ytd\n",
    "        Z5 = c_ytd/c_ytd2\n",
    "        Z = np.array([Z1, Z2, Z3, Z4, Z5])\n",
    "        ZZ = np.outer(Z, Z)\n",
    "        \n",
    "        variance_sample_analogy2.append((e_hat**2)*ZZ)\n",
    "        sample_number += 1\n",
    "\n",
    "omega2 = 0\n",
    "for var in variance_sample_analogy2:\n",
    "    omega2 = omega2 + var\n",
    "omega2 = (1/sample_number)*omega2\n",
    "\n",
    "W_hat2 = np.linalg.inv(omega2)"
   ]
  },
  {
   "cell_type": "code",
   "execution_count": 126,
   "id": "17b07cdf",
   "metadata": {},
   "outputs": [],
   "source": [
    "def rosen4(parameter):\n",
    "    delta = parameter[0]\n",
    "    gamma = parameter[1]\n",
    "    # 1. construct a sample analogy\n",
    "    time = len(dataset['time'])\n",
    "    sample_analogy_1 = []\n",
    "    for i in range(time-1):\n",
    "        c_tmr = list(dataset['consumption'])[i+1]\n",
    "        c_t = list(dataset['consumption'])[i]\n",
    "        R_tmr = dataset['asset_return'][i]\n",
    "        sample_analogy_1.append(delta*((c_tmr/c_t)**(-gamma))*R_tmr -1)\n",
    "\n",
    "    sample_analogy_2 = []\n",
    "    for i in range(1, time-1):\n",
    "        c_tmr = list(dataset['consumption'])[i+1]\n",
    "        c_t = list(dataset['consumption'])[i]\n",
    "        R_tmr = dataset['asset_return'][i]\n",
    "        R_t = dataset['asset_return'][i-1]\n",
    "        sample_analogy_2.append((delta*((c_tmr/c_t)**(-gamma))*R_tmr -1)*R_t)\n",
    "\n",
    "    sample_analogy_3 = []\n",
    "    for i in range(1, time-1):\n",
    "        c_tmr = list(dataset['consumption'])[i+1]\n",
    "        c_ytd = dataset['consumption'][i-1]\n",
    "        c_t = list(dataset['consumption'])[i]\n",
    "        R_tmr = dataset['asset_return'][i]\n",
    "        sample_analogy_3.append((delta*((c_tmr/c_t)**(-gamma))*R_tmr -1)*(c_t/c_ytd))\n",
    "        \n",
    "    sample_analogy_4 = []\n",
    "    for i in range(2, time-1):\n",
    "        c_tmr = list(dataset['consumption'])[i+1]\n",
    "        c_ytd = dataset['consumption'][i-1]\n",
    "        c_t = list(dataset['consumption'])[i]\n",
    "        R_tmr = dataset['asset_return'][i]\n",
    "        R_ytd = dataset['asset_return'][i-2]\n",
    "        sample_analogy_4.append((delta*((c_tmr/c_t)**(-gamma))*R_tmr -1)*(R_ytd))\n",
    "\n",
    "    sample_analogy_5 = []\n",
    "    for i in range(2, time-1):\n",
    "        c_tmr = list(dataset['consumption'])[i+1]\n",
    "        c_ytd = dataset['consumption'][i-1]\n",
    "        c_ytd2 = dataset['consumption'][i-2]\n",
    "        c_t = list(dataset['consumption'])[i]\n",
    "        R_tmr = dataset['asset_return'][i]\n",
    "        sample_analogy_5.append((delta*((c_tmr/c_t)**(-gamma))*R_tmr -1)*(c_ytd/c_ytd2))\n",
    "\n",
    "\n",
    "    # 2. Calculate GMM Criterion Function\n",
    "    g_n_bar = np.array([mean(sample_analogy_1), mean(sample_analogy_2), mean(sample_analogy_3), \n",
    "                        mean(sample_analogy_4), mean(sample_analogy_5)])\n",
    "\n",
    "    criterion = g_n_bar @ W_hat2 @ g_n_bar\n",
    "    \n",
    "    return criterion"
   ]
  },
  {
   "cell_type": "code",
   "execution_count": 127,
   "id": "1371235a",
   "metadata": {},
   "outputs": [
    {
     "name": "stdout",
     "output_type": "stream",
     "text": [
      "Optimization terminated successfully.\n",
      "         Current function value: 0.024855\n",
      "         Iterations: 87\n",
      "         Function evaluations: 170\n"
     ]
    }
   ],
   "source": [
    "res4 = minimize(rosen4, sample, method='nelder-mead',\n",
    "               options={'xatol': 1e-8, 'disp': True})"
   ]
  },
  {
   "cell_type": "code",
   "execution_count": 128,
   "id": "8411a2af",
   "metadata": {
    "scrolled": true
   },
   "outputs": [
    {
     "data": {
      "text/plain": [
       "array([ 0.92040723, -2.52268154])"
      ]
     },
     "execution_count": 128,
     "metadata": {},
     "output_type": "execute_result"
    }
   ],
   "source": [
    "res4.x"
   ]
  },
  {
   "cell_type": "markdown",
   "id": "6da92873",
   "metadata": {},
   "source": [
    "$$Hence\\ under\\ this\\ specification\\ we\\ have, \\\\  \\delta_{gmm2} = 0.92040723, \\\\  \\gamma_{gmm2} = -2.52268154  $$"
   ]
  }
 ],
 "metadata": {
  "kernelspec": {
   "display_name": "Python 3 (ipykernel)",
   "language": "python",
   "name": "python3"
  },
  "language_info": {
   "codemirror_mode": {
    "name": "ipython",
    "version": 3
   },
   "file_extension": ".py",
   "mimetype": "text/x-python",
   "name": "python",
   "nbconvert_exporter": "python",
   "pygments_lexer": "ipython3",
   "version": "3.9.7"
  }
 },
 "nbformat": 4,
 "nbformat_minor": 5
}
