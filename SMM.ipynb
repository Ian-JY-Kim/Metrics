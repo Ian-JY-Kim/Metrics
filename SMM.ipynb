{
 "cells": [
  {
   "cell_type": "code",
   "execution_count": 35,
   "id": "14ad489e",
   "metadata": {},
   "outputs": [],
   "source": [
    "import numpy as np\n",
    "import pandas as pd\n",
    "import math\n",
    "from numpy.linalg import inv\n",
    "import matplotlib.pyplot as plt"
   ]
  },
  {
   "cell_type": "markdown",
   "id": "85fa1897",
   "metadata": {},
   "source": [
    "## Q. (a) Do SMM for n = 100, 400"
   ]
  },
  {
   "cell_type": "markdown",
   "id": "f3315c59",
   "metadata": {},
   "source": [
    "### (1) Fix y_400, y_100\n",
    "draw random y from true distribution.\n",
    "to fix the seed, from hereon I will not change the data for y "
   ]
  },
  {
   "cell_type": "code",
   "execution_count": 4,
   "id": "ced97b00",
   "metadata": {},
   "outputs": [],
   "source": [
    "y_400 = list(np.random.normal(0, 1, 400)) \n",
    "y_100 = list(np.random.normal(0, 1, 100)) "
   ]
  },
  {
   "cell_type": "code",
   "execution_count": 13,
   "id": "26287bce",
   "metadata": {},
   "outputs": [],
   "source": [
    "g_400 = sample_moment_generator(y_400)\n",
    "g_100 = sample_moment_generator(y_100)"
   ]
  },
  {
   "cell_type": "markdown",
   "id": "4768d55b",
   "metadata": {},
   "source": [
    "### (2) Discretize Sigma Space"
   ]
  },
  {
   "cell_type": "code",
   "execution_count": 10,
   "id": "d4d6eaa2",
   "metadata": {},
   "outputs": [],
   "source": [
    "sigma_space = list(np.linspace(0,2,100)) "
   ]
  },
  {
   "cell_type": "markdown",
   "id": "c7b3768b",
   "metadata": {},
   "source": [
    "### (3) n = m = 400 case"
   ]
  },
  {
   "cell_type": "code",
   "execution_count": 64,
   "id": "12eb5739",
   "metadata": {},
   "outputs": [],
   "source": [
    "estimated_sigma400 = []\n",
    "for iterate in range(50):\n",
    "    # 1. one step \n",
    "    Q_n_list = []\n",
    "    for i in sigma_space:\n",
    "        gamma_m = gamma(i, 400)\n",
    "        Q_n = np.dot(g_400-gamma_m, g_400-gamma_m)\n",
    "        Q_n_list.append(Q_n)\n",
    "\n",
    "    # 2. find argmin Q_n\n",
    "    minimizer = sigma_space[Q_n_list.index(min(Q_n_list))]\n",
    "\n",
    "    # 3. construct W_star\n",
    "    gamma_m = gamma(minimizer, 400)\n",
    "    omega_hat = np.outer(g_400-gamma_m, g_400-gamma_m)\n",
    "    try:\n",
    "        W_star = inv(omega_hat)\n",
    "    except:\n",
    "        W_star = np.identity(2)\n",
    "\n",
    "    # 4. Two Step GMM\n",
    "    Q_n_list = []\n",
    "    for i in sigma_space:\n",
    "        gamma_m = gamma(i, 400)\n",
    "        Q_n = (g_400-gamma_m)@W_star@(g_400-gamma_m)\n",
    "        Q_n_list.append(Q_n)\n",
    "    minimizer2 = sigma_space[Q_n_list.index(min(Q_n_list))]\n",
    "    \n",
    "    estimated_sigma400.append(minimizer2)"
   ]
  },
  {
   "cell_type": "markdown",
   "id": "83ce0ca5",
   "metadata": {},
   "source": [
    "### (4) n = m = 100 case"
   ]
  },
  {
   "cell_type": "code",
   "execution_count": 65,
   "id": "eda0eee2",
   "metadata": {},
   "outputs": [],
   "source": [
    "estimated_sigma100 = []\n",
    "for iterate in range(50):\n",
    "    # 1. one step \n",
    "    Q_n_list = []\n",
    "    for i in sigma_space:\n",
    "        gamma_m = gamma(i, 100)\n",
    "        Q_n = np.dot(g_100-gamma_m, g_100-gamma_m)\n",
    "        Q_n_list.append(Q_n)\n",
    "\n",
    "    # 2. find argmin Q_n\n",
    "    minimizer = sigma_space[Q_n_list.index(min(Q_n_list))]\n",
    "\n",
    "    # 3. construct W_star\n",
    "    gamma_m = gamma(minimizer, 100)\n",
    "    omega_hat = np.outer(g_100-gamma_m, g_100-gamma_m)\n",
    "    try:\n",
    "        W_star = inv(omega_hat)\n",
    "    except:\n",
    "        W_star = np.identity(2)\n",
    "\n",
    "    # 4. Two Step GMM\n",
    "    Q_n_list = []\n",
    "    for i in sigma_space:\n",
    "        gamma_m = gamma(i, 100)\n",
    "        Q_n = (g_100-gamma_m)@W_star@(g_100-gamma_m)\n",
    "        Q_n_list.append(Q_n)\n",
    "    minimizer2 = sigma_space[Q_n_list.index(min(Q_n_list))]\n",
    "    \n",
    "    estimated_sigma100.append(minimizer2)"
   ]
  },
  {
   "cell_type": "markdown",
   "id": "156e0da6",
   "metadata": {},
   "source": [
    "## Q. (b) Plot the result"
   ]
  },
  {
   "cell_type": "code",
   "execution_count": 66,
   "id": "96000a79",
   "metadata": {},
   "outputs": [
    {
     "data": {
      "text/plain": [
       "<function matplotlib.pyplot.show(close=None, block=None)>"
      ]
     },
     "execution_count": 66,
     "metadata": {},
     "output_type": "execute_result"
    },
    {
     "data": {
      "image/png": "[encoded data removed]",
      "text/plain": [
       "<Figure size 432x288 with 1 Axes>"
      ]
     },
     "metadata": {
      "needs_background": "light"
     },
     "output_type": "display_data"
    }
   ],
   "source": [
    "plt.hist(estimated_sigma400)\n",
    "plt.title(\"m=n=400\")\n",
    "plt.show"
   ]
  },
  {
   "cell_type": "code",
   "execution_count": 67,
   "id": "e2d74e8c",
   "metadata": {},
   "outputs": [
    {
     "data": {
      "text/plain": [
       "<function matplotlib.pyplot.show(close=None, block=None)>"
      ]
     },
     "execution_count": 67,
     "metadata": {},
     "output_type": "execute_result"
    },
    {
     "data": {
      "image/png": "[encoded data removed]",
      "text/plain": [
       "<Figure size 432x288 with 1 Axes>"
      ]
     },
     "metadata": {
      "needs_background": "light"
     },
     "output_type": "display_data"
    }
   ],
   "source": [
    "plt.hist(estimated_sigma100)\n",
    "plt.title(\"m=n=100\")\n",
    "plt.show"
   ]
  },
  {
   "cell_type": "markdown",
   "id": "5309d47b",
   "metadata": {},
   "source": [
    "## Q. (c)"
   ]
  },
  {
   "cell_type": "code",
   "execution_count": 69,
   "id": "a7114204",
   "metadata": {},
   "outputs": [
    {
     "name": "stdout",
     "output_type": "stream",
     "text": [
      "when n = 400 8.772427144892553\n",
      "when n = 100 4.095790079816179\n",
      "under mle this number would go down, because it is more efficient\n"
     ]
    }
   ],
   "source": [
    "print(\"when n = 400\", 20*np.std(np.array(estimated_sigma400)))\n",
    "print(\"when n = 100\", 10*np.std(np.array(estimated_sigma100)))\n",
    "print(\"under mle this number would go down, because it is more efficient\")"
   ]
  },
  {
   "cell_type": "markdown",
   "id": "ae49bd79",
   "metadata": {},
   "source": [
    "## Q. (d) "
   ]
  },
  {
   "cell_type": "markdown",
   "id": "0a0c9101",
   "metadata": {},
   "source": [
    "### calculate g_n using 100 samples\n",
    "### calculate gamma_m using 400 samples"
   ]
  },
  {
   "cell_type": "code",
   "execution_count": 70,
   "id": "37fb6531",
   "metadata": {},
   "outputs": [],
   "source": [
    "estimated_sigma = []\n",
    "for iterate in range(50):\n",
    "    # 1. one step \n",
    "    Q_n_list = []\n",
    "    for i in sigma_space:\n",
    "        gamma_m = gamma(i, 400)\n",
    "        Q_n = np.dot(g_100-gamma_m, g_100-gamma_m)\n",
    "        Q_n_list.append(Q_n)\n",
    "\n",
    "    # 2. find argmin Q_n\n",
    "    minimizer = sigma_space[Q_n_list.index(min(Q_n_list))]\n",
    "\n",
    "    # 3. construct W_star\n",
    "    gamma_m = gamma(minimizer, 400)\n",
    "    omega_hat = np.outer(g_100-gamma_m, g_100-gamma_m)\n",
    "    try:\n",
    "        W_star = inv(omega_hat)\n",
    "    except:\n",
    "        W_star = np.identity(2)\n",
    "\n",
    "    # 4. Two Step GMM\n",
    "    Q_n_list = []\n",
    "    for i in sigma_space:\n",
    "        gamma_m = gamma(i, 400)\n",
    "        Q_n = (g_100-gamma_m)@W_star@(g_100-gamma_m)\n",
    "        Q_n_list.append(Q_n)\n",
    "    minimizer2 = sigma_space[Q_n_list.index(min(Q_n_list))]\n",
    "    \n",
    "    estimated_sigma.append(minimizer2)"
   ]
  },
  {
   "cell_type": "code",
   "execution_count": 71,
   "id": "983c712d",
   "metadata": {},
   "outputs": [
    {
     "data": {
      "text/plain": [
       "<function matplotlib.pyplot.show(close=None, block=None)>"
      ]
     },
     "execution_count": 71,
     "metadata": {},
     "output_type": "execute_result"
    },
    {
     "data": {
      "image/png": "[encoded data removed]",
      "text/plain": [
       "<Figure size 432x288 with 1 Axes>"
      ]
     },
     "metadata": {
      "needs_background": "light"
     },
     "output_type": "display_data"
    }
   ],
   "source": [
    "plt.hist(estimated_sigma400)\n",
    "plt.title(\"m=400, n=100\")\n",
    "plt.show"
   ]
  },
  {
   "cell_type": "code",
   "execution_count": 12,
   "id": "9dbf150f",
   "metadata": {},
   "outputs": [],
   "source": [
    "def gamma(sigma, simulation_size):\n",
    "    '''\n",
    "    input: conjectured sigma, simulation size in {100, 400}\n",
    "    output: array of sample analogy for moment condition\n",
    "    '''\n",
    "    # 1. Draw Random Data from N(0, sigma)\n",
    "    random_data = list(np.random.normal(0, math.sqrt(sigma), simulation_size))\n",
    "    gamma_m = sample_moment_generator(random_data)\n",
    "    return gamma_m"
   ]
  },
  {
   "cell_type": "code",
   "execution_count": 5,
   "id": "35e0e1a5",
   "metadata": {},
   "outputs": [],
   "source": [
    "def sample_moment_generator(simulated_data):\n",
    "    '''\n",
    "    input: list of simulated data\n",
    "    output: array of sample analogy for moment condition\n",
    "    '''\n",
    "    first = 0\n",
    "    second = 0\n",
    "    sample_count = 0\n",
    "    \n",
    "    for i in simulated_data:\n",
    "        sample_count += 1\n",
    "        if i >= -1 and i <= 1:\n",
    "            first += 1\n",
    "        if i >= -2 and i <= 2:\n",
    "            second += 1\n",
    "    \n",
    "    sample_analogy = np.array([first/sample_count, second/sample_count])\n",
    "    return sample_analogy"
   ]
  }
 ],
 "metadata": {
  "kernelspec": {
   "display_name": "Python 3 (ipykernel)",
   "language": "python",
   "name": "python3"
  },
  "language_info": {
   "codemirror_mode": {
    "name": "ipython",
    "version": 3
   },
   "file_extension": ".py",
   "mimetype": "text/x-python",
   "name": "python",
   "nbconvert_exporter": "python",
   "pygments_lexer": "ipython3",
   "version": "3.9.7"
  }
 },
 "nbformat": 4,
 "nbformat_minor": 5
}
