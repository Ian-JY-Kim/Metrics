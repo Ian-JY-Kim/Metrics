{
 "cells": [
  {
   "cell_type": "code",
   "execution_count": 91,
   "id": "a9d92220",
   "metadata": {},
   "outputs": [],
   "source": [
    "import pandas as pd\n",
    "import numpy as np\n",
    "import matplotlib.pyplot as plt\n",
    "import statsmodels.formula.api as smf\n",
    "import seaborn as sns"
   ]
  },
  {
   "cell_type": "code",
   "execution_count": 85,
   "id": "1ddbd6b3",
   "metadata": {},
   "outputs": [],
   "source": [
    "import warnings\n",
    "warnings.filterwarnings(action='ignore')"
   ]
  },
  {
   "cell_type": "code",
   "execution_count": 2,
   "id": "25a815f6",
   "metadata": {},
   "outputs": [],
   "source": [
    "# set parameters\n",
    "beta_0 = 1\n",
    "beta_1 = 1\n",
    "alpha = 0.95"
   ]
  },
  {
   "cell_type": "markdown",
   "id": "ba83cafc",
   "metadata": {},
   "source": [
    "## Problem2-(a)"
   ]
  },
  {
   "cell_type": "code",
   "execution_count": 34,
   "id": "9ce3f1fb",
   "metadata": {},
   "outputs": [],
   "source": [
    "sample_size = [10, 50, 200]\n",
    "for num in sample_size:\n",
    "    globals()['x_{}'.format(num)] = np.random.uniform(0,2,num)\n",
    "    globals()['resid_{}'.format(num)] = np.random.uniform(-1,1,num)"
   ]
  },
  {
   "cell_type": "code",
   "execution_count": 37,
   "id": "6d18412d",
   "metadata": {},
   "outputs": [],
   "source": [
    "df_10 = pd.DataFrame({'x': list(x_10), 'resid': list(resid_10)})\n",
    "df_50 = pd.DataFrame({'x': list(x_50), 'resid': list(resid_50)})\n",
    "df_200 = pd.DataFrame({'x': list(x_200), 'resid': list(resid_200)})"
   ]
  },
  {
   "cell_type": "code",
   "execution_count": 40,
   "id": "5d5a363e",
   "metadata": {},
   "outputs": [],
   "source": [
    "df_10['y'] = df_10['x'] + 1 + df_10['resid']\n",
    "df_50['y'] = df_50['x'] + 1 + df_50['resid']\n",
    "df_200['y'] = df_200['x'] + 1 + df_200['resid']"
   ]
  },
  {
   "cell_type": "markdown",
   "id": "e054b316",
   "metadata": {},
   "source": [
    "### (1) calculate beta_LS"
   ]
  },
  {
   "cell_type": "code",
   "execution_count": 42,
   "id": "a26556bf",
   "metadata": {},
   "outputs": [],
   "source": [
    "result_10 = smf.ols('y ~ x', data = df_10).fit()\n",
    "result_50 = smf.ols('y ~ x', data = df_50).fit()\n",
    "result_200 = smf.ols('y ~ x', data = df_200).fit()"
   ]
  },
  {
   "cell_type": "code",
   "execution_count": 45,
   "id": "8a7dcbd7",
   "metadata": {},
   "outputs": [
    {
     "name": "stdout",
     "output_type": "stream",
     "text": [
      "estimated beta under sample size 10:  0.5681644740536715\n",
      "estimated beta under sample size 50:  1.174801385031427\n",
      "estimated beta under sample size 200:  0.9742738334454812\n"
     ]
    }
   ],
   "source": [
    "print(\"estimated beta under sample size 10: \", result_10.params[1])\n",
    "print(\"estimated beta under sample size 50: \", result_50.params[1])\n",
    "print(\"estimated beta under sample size 200: \", result_200.params[1])"
   ]
  },
  {
   "cell_type": "markdown",
   "id": "a9a8574f",
   "metadata": {},
   "source": [
    "### (2) calculate t-ratio"
   ]
  },
  {
   "cell_type": "code",
   "execution_count": 53,
   "id": "73d8ba0a",
   "metadata": {},
   "outputs": [],
   "source": [
    "t_10 = (result_10.params[1]-1)/result_10.bse[1]\n",
    "t_50 = (result_50.params[1]-1)/result_50.bse[1]\n",
    "t_200 = (result_200.params[1]-1)/result_200.bse[1]"
   ]
  },
  {
   "cell_type": "code",
   "execution_count": 54,
   "id": "89859c02",
   "metadata": {},
   "outputs": [
    {
     "name": "stdout",
     "output_type": "stream",
     "text": [
      "t-ratio under sample size 10:  -1.3589853940778511\n",
      "t-ratio under sample size 50:  1.2291736010620207\n",
      "t-ratio under sample size 200:  -0.37007734587618557\n"
     ]
    }
   ],
   "source": [
    "print(\"t-ratio under sample size 10: \", t_10)\n",
    "print(\"t-ratio under sample size 50: \", t_50)\n",
    "print(\"t-ratio under sample size 200: \", t_200)"
   ]
  },
  {
   "cell_type": "markdown",
   "id": "0ba4e02b",
   "metadata": {},
   "source": [
    "### (3) LS residuals"
   ]
  },
  {
   "cell_type": "code",
   "execution_count": 56,
   "id": "b7e2610d",
   "metadata": {},
   "outputs": [],
   "source": [
    "resid_hat_10 = list(result_10.resid)\n",
    "resid_hat_50 = list(result_50.resid)\n",
    "resid_hat_200 = list(result_200.resid)"
   ]
  },
  {
   "cell_type": "code",
   "execution_count": 57,
   "id": "0b36175c",
   "metadata": {},
   "outputs": [
    {
     "data": {
      "text/plain": [
       "[0.08800156825399075,\n",
       " -1.0619093030744287,\n",
       " 0.28795965602022244,\n",
       " 0.15700863611446358,\n",
       " -0.6317944919826319,\n",
       " -0.1195677097155019,\n",
       " 0.6062960749702841,\n",
       " 0.5620599150684484,\n",
       " -0.2854726070489244,\n",
       " 0.3974182613940884]"
      ]
     },
     "execution_count": 57,
     "metadata": {},
     "output_type": "execute_result"
    }
   ],
   "source": [
    "resid_hat_10"
   ]
  },
  {
   "cell_type": "markdown",
   "id": "75fe1ab8",
   "metadata": {},
   "source": [
    "## Problem2-(b)"
   ]
  },
  {
   "cell_type": "code",
   "execution_count": 62,
   "id": "c025d39d",
   "metadata": {},
   "outputs": [],
   "source": [
    "n = 10 # should designate the number of drawing\n",
    "sample_result = np.random.choice(resid_hat_10, size= n, replace=True)"
   ]
  },
  {
   "cell_type": "code",
   "execution_count": 63,
   "id": "f5b7cb64",
   "metadata": {},
   "outputs": [
    {
     "data": {
      "text/plain": [
       "array([ 0.08800157,  0.08800157, -1.0619093 , -0.11956771, -0.28547261,\n",
       "        0.56205992, -0.28547261,  0.08800157,  0.39741826, -1.0619093 ])"
      ]
     },
     "execution_count": 63,
     "metadata": {},
     "output_type": "execute_result"
    }
   ],
   "source": [
    "sample_result"
   ]
  },
  {
   "cell_type": "markdown",
   "id": "0ba62341",
   "metadata": {},
   "source": [
    "## Problem2-(c)"
   ]
  },
  {
   "cell_type": "markdown",
   "id": "cfe9abcb",
   "metadata": {},
   "source": [
    "<pre>\n",
    "In lecture note, it says that B = 400 or 1000 is sufficient. \n",
    "However, for a direct comparison with the result from Problem2-(d), I will use <b>B = 200</b>\n",
    "\n",
    "Roadamp\n",
    "For each sample size n = 10, 50, 200, apply residual bootstrap as follows:\n",
    "1. Set B = 200\n",
    "2. Resample the residuals with replacement using code in (b), and obtain bootstrapped residual vector (B_resid)\n",
    "3. Using the original regressor and generated B_resid, calculate bootstrapped y (B_y) \n",
    "4. Regress B_y on x and then get bootstrapped_beta (B_beta) & get t-ratio (B_t)\n",
    "5. repeat this B=200 times by going back to 2 \n",
    "</pre>"
   ]
  },
  {
   "cell_type": "code",
   "execution_count": 66,
   "id": "b96badc9",
   "metadata": {},
   "outputs": [],
   "source": [
    "B = 200 # set the number of bootstrap iteration "
   ]
  },
  {
   "cell_type": "code",
   "execution_count": 67,
   "id": "31678e69",
   "metadata": {},
   "outputs": [],
   "source": [
    "# Function Below Follows the Suggested Roadmap\n",
    "def Bootstrap(Residuals, Regressors, n):\n",
    "    '''\n",
    "    input eg. resid_hat_10, x_10, 10\n",
    "    output B_beta & B_t\n",
    "    '''\n",
    "    B_beta = []\n",
    "    B_t = []\n",
    "    \n",
    "    for i in range(B):\n",
    "        #1.Resample the Residuals\n",
    "        resampled_resid = np.random.choice(Residuals, size= n, replace=True)\n",
    "        \n",
    "        #2.Calculate B_y\n",
    "        target_df = pd.DataFrame({'x': list(Regressors), 'resid': list(resampled_resid)})\n",
    "        target_df['y'] = target_df['x'] + 1 + target_df['resid']\n",
    "        \n",
    "        #3.Regress B_y on x\n",
    "        target_result = smf.ols('y ~ x', data = target_df).fit()\n",
    "        \n",
    "        #4.Calculate B_beta\n",
    "        B_beta.append(target_result.params[1])\n",
    "        \n",
    "        #5.Calculate B_t\n",
    "        B_t.append((target_result.params[1]-1)/target_result.bse[1])\n",
    "        \n",
    "        \n",
    "    return B_beta, B_t"
   ]
  },
  {
   "cell_type": "code",
   "execution_count": 72,
   "id": "0aa96ba4",
   "metadata": {},
   "outputs": [],
   "source": [
    "B_beta_10, B_t_10 = Bootstrap(resid_hat_10, x_10, 10)\n",
    "B_beta_50, B_t_50 = Bootstrap(resid_hat_50, x_50, 50)\n",
    "B_beta_200, B_t_200 = Bootstrap(resid_hat_200, x_200, 200)"
   ]
  },
  {
   "cell_type": "code",
   "execution_count": 118,
   "id": "85a90a81",
   "metadata": {},
   "outputs": [
    {
     "name": "stdout",
     "output_type": "stream",
     "text": [
      "95th percentile of Beta_LS under sample size 10:  1.4285671512109575\n",
      "95th percentile of Beta_LS under sample size 50:  1.2249026534819407\n",
      "95th percentile of Beta_LS under sample size 200:  1.1114020586440891\n"
     ]
    }
   ],
   "source": [
    "print(\"95th percentile of Beta_LS under sample size 10: \",np.quantile(np.array(B_beta_10), alpha))\n",
    "print(\"95th percentile of Beta_LS under sample size 50: \",np.quantile(np.array(B_beta_50), alpha))\n",
    "print(\"95th percentile of Beta_LS under sample size 200: \",np.quantile(np.array(B_beta_200), alpha))"
   ]
  },
  {
   "cell_type": "code",
   "execution_count": 119,
   "id": "b33667eb",
   "metadata": {},
   "outputs": [
    {
     "name": "stdout",
     "output_type": "stream",
     "text": [
      "95th percentile of t-ratio under sample size 10:  1.840883169290615\n",
      "95th percentile of t-ratio under sample size 50:  1.5454808908573863\n",
      "95th percentile of t-ratio under sample size 200:  1.6266837992219405\n"
     ]
    }
   ],
   "source": [
    "print(\"95th percentile of t-ratio under sample size 10: \",np.quantile(np.array(B_t_10), alpha))\n",
    "print(\"95th percentile of t-ratio under sample size 50: \",np.quantile(np.array(B_t_50), alpha))\n",
    "print(\"95th percentile of t-ratio under sample size 200: \",np.quantile(np.array(B_t_200), alpha))"
   ]
  },
  {
   "cell_type": "code",
   "execution_count": 109,
   "id": "6fe1fcd8",
   "metadata": {},
   "outputs": [
    {
     "data": {
      "image/png": "[encoded data removed]",
      "text/plain": [
       "<Figure size 432x288 with 1 Axes>"
      ]
     },
     "metadata": {
      "needs_background": "light"
     },
     "output_type": "display_data"
    }
   ],
   "source": [
    "bins = [x for x in range(1,2)]\n",
    "\n",
    "ax = sns.distplot(B_beta_10, bins, label = '10')\n",
    "ax = sns.distplot(B_beta_50, bins, label = '50')\n",
    "ax = sns.distplot(B_beta_200, bins, label = '200')\n",
    "\n",
    "plt.title('Estimated Beta')\n",
    "plt.show()"
   ]
  },
  {
   "cell_type": "code",
   "execution_count": 112,
   "id": "a462794d",
   "metadata": {
    "scrolled": true
   },
   "outputs": [
    {
     "data": {
      "image/png": "[encoded data removed]",
      "text/plain": [
       "<Figure size 432x288 with 1 Axes>"
      ]
     },
     "metadata": {
      "needs_background": "light"
     },
     "output_type": "display_data"
    }
   ],
   "source": [
    "bins = [x for x in range(-3,3)]\n",
    "\n",
    "ax = sns.distplot(B_t_10, bins, label = '10')\n",
    "ax = sns.distplot(B_t_50, bins, label = '50')\n",
    "ax = sns.distplot(B_t_200, bins, label = '200')\n",
    "\n",
    "plt.title('Estimated t ratio')\n",
    "plt.show()"
   ]
  },
  {
   "cell_type": "markdown",
   "id": "38fd4b29",
   "metadata": {},
   "source": [
    "<pre>\n",
    "as sample size grows, the estimated value shows less variance. \n",
    "green line: sample size 200\n",
    "orange line: sample size 50 \n",
    "blue line: sample size 10\n",
    "</pre>"
   ]
  },
  {
   "cell_type": "markdown",
   "id": "6fb0fb36",
   "metadata": {},
   "source": [
    "## Problem2-(d)"
   ]
  },
  {
   "cell_type": "markdown",
   "id": "13133e59",
   "metadata": {},
   "source": [
    "<pre>\n",
    "This question requires us to re-draw the error from the conditional distribution, rather than resample it from the estimated residuals.\n",
    "\n",
    "So here is my plan:\n",
    "For each sample size n = 10, 50, 200\n",
    "1. Redraw error from the uniform distribution.\n",
    "2. Using the original regressor and re-drawn error, calculate simulated y (S_y)\n",
    "3. Regress S_y on x and then get simulated_beta (S_beta) & get t-ratio (S_t)\n",
    "5. repeat this 200 times by going back to 1\n",
    "</pre>"
   ]
  },
  {
   "cell_type": "code",
   "execution_count": 120,
   "id": "70770e46",
   "metadata": {},
   "outputs": [],
   "source": [
    "# Function Below Follows the Suggested Roadmap\n",
    "def Simulation(Regressors, n):\n",
    "    '''\n",
    "    input eg. x_10, 10\n",
    "    output S_beta & S_t\n",
    "    '''\n",
    "    S_beta = []\n",
    "    S_t = []\n",
    "    \n",
    "    for i in range(200):\n",
    "        #1.Redraw the Residuals\n",
    "        redrawn_resid = np.random.uniform(-1,1,n)\n",
    "\n",
    "        #2.Calculate S_y\n",
    "        target_df = pd.DataFrame({'x': list(Regressors), 'resid': list(redrawn_resid)})\n",
    "        target_df['y'] = target_df['x'] + 1 + target_df['resid']\n",
    "        \n",
    "        #3.Regress S_y on x\n",
    "        target_result = smf.ols('y ~ x', data = target_df).fit()\n",
    "        \n",
    "        #4.Calculate B_beta\n",
    "        S_beta.append(target_result.params[1])\n",
    "        \n",
    "        #5.Calculate B_t\n",
    "        S_t.append((target_result.params[1]-1)/target_result.bse[1])\n",
    "        \n",
    "        \n",
    "    return S_beta, S_t"
   ]
  },
  {
   "cell_type": "code",
   "execution_count": 121,
   "id": "217d90fc",
   "metadata": {},
   "outputs": [],
   "source": [
    "S_beta_10, S_t_10 = Simulation(x_10, 10)\n",
    "S_beta_50, S_t_50 = Simulation(x_50, 50)\n",
    "S_beta_200, S_t_200 = Simulation(x_200, 200)"
   ]
  },
  {
   "cell_type": "code",
   "execution_count": 123,
   "id": "c85527e4",
   "metadata": {},
   "outputs": [
    {
     "name": "stdout",
     "output_type": "stream",
     "text": [
      "95th percentile of Beta_LS under sample size 10:  1.631127657678007\n",
      "95th percentile of Beta_LS under sample size 50:  1.292214362670521\n",
      "95th percentile of Beta_LS under sample size 200:  1.1180600708209323\n"
     ]
    }
   ],
   "source": [
    "print(\"95th percentile of Beta_LS under sample size 10: \",np.quantile(np.array(S_beta_10), alpha))\n",
    "print(\"95th percentile of Beta_LS under sample size 50: \",np.quantile(np.array(S_beta_50), alpha))\n",
    "print(\"95th percentile of Beta_LS under sample size 200: \",np.quantile(np.array(S_beta_200), alpha))"
   ]
  },
  {
   "cell_type": "code",
   "execution_count": 124,
   "id": "4bc3704e",
   "metadata": {},
   "outputs": [
    {
     "name": "stdout",
     "output_type": "stream",
     "text": [
      "95th percentile of t-ratio under sample size 10:  2.0052007062546915\n",
      "95th percentile of t-ratio under sample size 50:  2.0989769705080525\n",
      "95th percentile of t-ratio under sample size 200:  1.6931121186946687\n"
     ]
    }
   ],
   "source": [
    "print(\"95th percentile of t-ratio under sample size 10: \",np.quantile(np.array(S_t_10), alpha))\n",
    "print(\"95th percentile of t-ratio under sample size 50: \",np.quantile(np.array(S_t_50), alpha))\n",
    "print(\"95th percentile of t-ratio under sample size 200: \",np.quantile(np.array(S_t_200), alpha))"
   ]
  },
  {
   "cell_type": "code",
   "execution_count": 125,
   "id": "7cfca99c",
   "metadata": {},
   "outputs": [
    {
     "data": {
      "image/png": "[encoded data removed]",
      "text/plain": [
       "<Figure size 432x288 with 1 Axes>"
      ]
     },
     "metadata": {
      "needs_background": "light"
     },
     "output_type": "display_data"
    }
   ],
   "source": [
    "bins = [x for x in range(1,2)]\n",
    "\n",
    "ax = sns.distplot(S_beta_10, bins, label = '10')\n",
    "ax = sns.distplot(S_beta_50, bins, label = '50')\n",
    "ax = sns.distplot(S_beta_200, bins, label = '200')\n",
    "\n",
    "plt.title('Estimated Beta')\n",
    "plt.show()"
   ]
  },
  {
   "cell_type": "code",
   "execution_count": 126,
   "id": "fca44dba",
   "metadata": {
    "scrolled": true
   },
   "outputs": [
    {
     "data": {
      "image/png": "[encoded data removed]",
      "text/plain": [
       "<Figure size 432x288 with 1 Axes>"
      ]
     },
     "metadata": {
      "needs_background": "light"
     },
     "output_type": "display_data"
    }
   ],
   "source": [
    "bins = [x for x in range(-3,3)]\n",
    "\n",
    "ax = sns.distplot(S_t_10, bins, label = '10')\n",
    "ax = sns.distplot(S_t_50, bins, label = '50')\n",
    "ax = sns.distplot(S_t_200, bins, label = '200')\n",
    "\n",
    "plt.title('Estimated t ratio')\n",
    "plt.show()"
   ]
  },
  {
   "cell_type": "markdown",
   "id": "2c076a80",
   "metadata": {},
   "source": [
    "<pre>\n",
    "as sample size grows, the estimated value shows less variance. \n",
    "green line: sample size 200\n",
    "orange line: sample size 50 \n",
    "blue line: sample size 10\n",
    "</pre>"
   ]
  },
  {
   "cell_type": "markdown",
   "id": "234e93df",
   "metadata": {},
   "source": [
    "## Problem2-(e)"
   ]
  },
  {
   "cell_type": "markdown",
   "id": "f61abb87",
   "metadata": {},
   "source": [
    "### 1. comparison btw (c) and (d)"
   ]
  },
  {
   "cell_type": "markdown",
   "id": "2c80cb76",
   "metadata": {},
   "source": [
    "<pre>\n",
    "Denote the result of (c) with Bootstrap and (d) with Simulation.\n",
    "As sample size goes up, both methods show quite similar results. \n",
    "95th percentile of Beta estimate from both methods achieved close value with 1. (1.111, 1.118 respectively)\n",
    "\n",
    "However, Bootstrap outperforms under restricted sample size. \n",
    "Under N=10, Bootstrap's 95th percetnrile of Beta estimate was 1.42, but that of Simulation was 1.63. \n",
    "\n",
    "i.e,\n",
    "Asymptotically, both methods show similar result. \n",
    "But, under restricted sample number, Bootstrap showed better performance\n",
    "</pre>"
   ]
  },
  {
   "cell_type": "markdown",
   "id": "1442bf05",
   "metadata": {},
   "source": [
    "### 2. Compare to 95th Percentile of asymp. dist. of t_n"
   ]
  },
  {
   "cell_type": "code",
   "execution_count": 135,
   "id": "c1c53fed",
   "metadata": {},
   "outputs": [
    {
     "name": "stdout",
     "output_type": "stream",
     "text": [
      "95th percentile of asymp. dist. of t_n: 1.6448536269514722\n"
     ]
    }
   ],
   "source": [
    "from scipy.stats import norm\n",
    "print(\"95th percentile of asymp. dist. of t_n:\", norm.ppf(0.95))"
   ]
  },
  {
   "cell_type": "markdown",
   "id": "88a1a6f1",
   "metadata": {},
   "source": [
    "<pre>\n",
    "As I computed above, 95th percentile of asymp. dist. of t_n is 1.64. \n",
    "And the results in (c) and (d) both showed that the calculated t-ratio gets closer to 1.64 \n",
    "as sample size grows. \n",
    "\n",
    "This result supports the fact that t-statistics is asymptotically pivotal\n",
    "</pre>"
   ]
  }
 ],
 "metadata": {
  "kernelspec": {
   "display_name": "Python 3",
   "language": "python",
   "name": "python3"
  },
  "language_info": {
   "codemirror_mode": {
    "name": "ipython",
    "version": 3
   },
   "file_extension": ".py",
   "mimetype": "text/x-python",
   "name": "python",
   "nbconvert_exporter": "python",
   "pygments_lexer": "ipython3",
   "version": "3.8.8"
  }
 },
 "nbformat": 4,
 "nbformat_minor": 5
}
